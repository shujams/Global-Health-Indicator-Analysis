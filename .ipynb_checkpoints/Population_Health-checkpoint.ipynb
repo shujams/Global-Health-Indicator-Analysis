{
 "cells": [
  {
   "cell_type": "code",
   "execution_count": null,
   "metadata": {},
   "outputs": [],
   "source": [
    "# Dependencies and Setup\n",
    "%matplotlib inline\n",
    "import matplotlib.pyplot as plt\n",
    "import pandas as pd\n",
    "import numpy as np\n",
    "import json\n",
    "from scipy.stats import linregress\n",
    "from scipy import stats\n",
    "\n",
    "yr_list= [2005, 2006, 2007, 2008, 2009, 2010, 2011, 2012, 2013,\n",
    "       2014, 2015]\n",
    "\n",
    "# Hide warning messages in notebook\n",
    "import warnings\n",
    "warnings.filterwarnings('ignore')\n",
    "\n",
    "# File to Load\n",
    "data_to_load = \"data.csv\"\n",
    "\n",
    "# Read the Population Health Data\n",
    "health_data_pd = pd.read_csv(data_to_load)\n",
    "\n",
    "# Display the data table for preview\n",
    "health_data_pd"
   ]
  },
  {
   "cell_type": "code",
   "execution_count": null,
   "metadata": {},
   "outputs": [],
   "source": [
    "health_data_decade_df = health_data_pd[['Country Name','Country Code','Indicator Name','Indicator Code',\n",
    "                                        '2005','2006','2007','2008','2009','2010','2011','2012','2013','2014','2015']]\n",
    "health_data_decade_df\n"
   ]
  },
  {
   "cell_type": "code",
   "execution_count": null,
   "metadata": {},
   "outputs": [],
   "source": [
    "countries_sorted_df = health_data_decade_df.groupby('Country Name')\n",
    "countries_sorted_df\n",
    "usa_df = countries_sorted_df.get_group('United States') \n",
    "usa_df"
   ]
  },
  {
   "cell_type": "code",
   "execution_count": null,
   "metadata": {},
   "outputs": [],
   "source": [
    "dropped_usa_df = usa_df.dropna() \n",
    "dropped_usa_df"
   ]
  },
  {
   "cell_type": "code",
   "execution_count": null,
   "metadata": {},
   "outputs": [],
   "source": [
    "decade_health_USA_T = dropped_usa_df.iloc[:, 2:].T\n",
    "decade_health_USA_T.columns = decade_health_USA_T.iloc[1,:]\n",
    "decade_health_USA_T = decade_health_USA_T.iloc[2:, :]\n",
    "\n",
    "decade_health_USA_T_codes = decade_health_USA_T[['SH.IMM.HEPB', 'SH.IMM.MEAS', 'SH.STA.ACSN',\n",
    "                                                 'SP.DYN.IMRT.IN','SH.H2O.SAFE.ZS','SP.POP.GROW','SP.POP.TOTL','NY.GNP.PCAP.CD']]\n",
    "decade_health_USA_T_codes"
   ]
  },
  {
   "cell_type": "code",
   "execution_count": null,
   "metadata": {},
   "outputs": [],
   "source": [
    "decade_health_USA_T_codes = decade_health_USA_T[['SH.IMM.HEPB', 'SH.IMM.MEAS', 'SH.STA.ACSN','SP.DYN.IMRT.IN','SH.H2O.SAFE.ZS','SP.POP.GROW','SP.POP.TOTL','NY.GNP.PCAP.CD']]\n",
    "decade_health_USA_T_codes"
   ]
  },
  {
   "cell_type": "code",
   "execution_count": null,
   "metadata": {},
   "outputs": [],
   "source": []
  },
  {
   "cell_type": "code",
   "execution_count": null,
   "metadata": {},
   "outputs": [],
   "source": [
    "fig, (ax1) = plt.subplots(1, sharex=True)\n",
    "fig.suptitle('Measles Immunization Rate Vs. \\n Infant Mortality Rate from 2005-2015 (USA)', fontsize=14, fontweight=\"bold\")\n",
    "\n",
    "yr_list= [2005, 2006, 2007, 2008, 2009, 2010, 2011, 2012, 2013,\n",
    "       2014, 2015]\n",
    "\n",
    "x = yr_list\n",
    "y = [ x[0] for x in decade_health_USA_T_codes[['SP.DYN.IMRT.IN']].values]\n",
    "\n",
    "ax1.set_xlim(min(yr_list)-.5, max(yr_list)+.5)\n",
    "ax1.plot(x, y, linewidth=1, marker=\"o\")\n",
    "\n",
    "x = yr_list\n",
    "y = [ x[0] for x in decade_health_USA_T_codes[['SH.IMM.MEAS']].values]\n",
    "\n",
    "ax1.plot(x, y, linewidth=1, marker=\"o\", color=\"r\")\n",
    "ax1.set_ylabel(\"Rate (per 100)\")\n",
    "ax1.set_xlabel(\"Year\")\n",
    "\n",
    "plt.savefig(\"measles_usa.png\")"
   ]
  },
  {
   "cell_type": "code",
   "execution_count": null,
   "metadata": {},
   "outputs": [],
   "source": [
    "import pingouin as pg\n",
    "\n",
    "x = [ x[0] for x in decade_health_USA_T_codes[['SP.DYN.IMRT.IN']].values]\n",
    "y = [ x[0] for x in decade_health_USA_T_codes[['SH.IMM.MEAS']].values]\n",
    "\n",
    "print(pg.corr(x, y))"
   ]
  },
  {
   "cell_type": "code",
   "execution_count": null,
   "metadata": {},
   "outputs": [],
   "source": [
    "import pingouin as pg\n",
    "import seaborn as sns\n",
    "import matplotlib.pyplot as plt\n",
    "from scipy.stats import pearsonr\n",
    "sns.set(style='white', font_scale=1.2)\n",
    "\n",
    "x = [ x[0] for x in decade_health_USA_T_codes[['NY.GNP.PCAP.CD']].values]\n",
    "y = [ x[0] for x in decade_health_USA_T_codes[['SH.IMM.MEAS']].values]\n",
    "\n",
    "print(pg.corr(x, y))\n",
    "\n",
    "g = sns.JointGrid(x, y)\n",
    "g = g.plot_joint(sns.regplot, color=\"xkcd:muted blue\")\n",
    "g = g.plot_marginals(sns.distplot, kde=False, bins=12, color=\"xkcd:bluey grey\")\n",
    "g.ax_joint.text(150, 95, 'r = 0.45, p < .001', fontstyle='italic')\n",
    "plt.tight_layout()\n",
    "\n",
    "plt.savefig(\"gnp_usa.png\")"
   ]
  },
  {
   "cell_type": "code",
   "execution_count": null,
   "metadata": {},
   "outputs": [],
   "source": [
    "import pingouin as pg\n",
    "import seaborn as sns\n",
    "import matplotlib.pyplot as plt\n",
    "from scipy.stats import pearsonr\n",
    "sns.set(style='white', font_scale=1.2)\n",
    "\n",
    "x = [ x[0] for x in decade_health_germany_T_codes[['NY.GNP.PCAP.CD']].values]\n",
    "y = [ x[0] for x in decade_health_germany_T_codes[['SH.IMM.MEAS']].values]\n",
    "print(pg.corr(x, y))\n",
    "\n",
    "g = sns.JointGrid(x, y)\n",
    "g = g.plot_joint(sns.regplot, color=\"xkcd:muted blue\")\n",
    "g = g.plot_marginals(sns.distplot, kde=False, bins=12, color=\"xkcd:bluey grey\")\n",
    "g.ax_joint.text(150, 95, 'r = 0.45, p < .001', fontstyle='italic')\n",
    "plt.tight_layout()\n",
    "\n",
    "plt.savefig(\"gnp_germany.png\")"
   ]
  },
  {
   "cell_type": "code",
   "execution_count": null,
   "metadata": {},
   "outputs": [],
   "source": [
    "import pingouin as pg\n",
    "import seaborn as sns\n",
    "import matplotlib.pyplot as plt\n",
    "from scipy.stats import pearsonr\n",
    "sns.set(style='white', font_scale=1.2)\n",
    "\n",
    "x = [ x[0] for x in decade_health_china_T_codes[['NY.GNP.PCAP.CD']].values]\n",
    "y = [ x[0] for x in decade_health_china_T_codes[['SH.IMM.MEAS']].values]\n",
    "print(pg.corr(x, y))\n",
    "\n",
    "g = sns.JointGrid(x, y)\n",
    "g = g.plot_joint(sns.regplot, color=\"xkcd:muted blue\")\n",
    "g = g.plot_marginals(sns.distplot, kde=False, bins=12, color=\"xkcd:bluey grey\")\n",
    "g.ax_joint.text(150, 95,'r = 0.45,  p < .001', fontstyle='italic')\n",
    "plt.tight_layout()\n",
    "\n",
    "plt.savefig(\"gnp_china.png\")"
   ]
  },
  {
   "cell_type": "code",
   "execution_count": null,
   "metadata": {},
   "outputs": [],
   "source": [
    "import pingouin as pg\n",
    "import seaborn as sns\n",
    "import matplotlib.pyplot as plt\n",
    "from scipy.stats import pearsonr\n",
    "sns.set(style='white', font_scale=1.2)\n",
    "\n",
    "x = [ x[0] for x in decade_health_brazil_T_codes[['NY.GNP.PCAP.CD']].values]\n",
    "y = [ x[0] for x in decade_health_brazil_T_codes[['SH.IMM.MEAS']].values]\n",
    "print(pg.corr(x, y))\n",
    "\n",
    "g = sns.JointGrid(x, y)\n",
    "g = g.plot_joint(sns.regplot, color=\"xkcd:muted blue\")\n",
    "g = g.plot_marginals(sns.distplot, kde=False, bins=12, color=\"xkcd:bluey grey\")\n",
    "g.ax_joint.text(150, 95, 'r = 0.45, p < .001', fontstyle='italic')\n",
    "plt.tight_layout()\n",
    "\n",
    "plt.savefig(\"gnp_brazil.png\")"
   ]
  },
  {
   "cell_type": "code",
   "execution_count": null,
   "metadata": {},
   "outputs": [],
   "source": [
    "\n",
    "\n",
    "fig, (ax1) = plt.subplots(1, sharex=True)\n",
    "fig.suptitle(\"Immunization Rates from 2005-2015 (USA)\", fontsize=16, fontweight=\"bold\")\n",
    "\n",
    "yr_list= [2005, 2006, 2007, 2008, 2009, 2010, 2011, 2012, 2013,\n",
    "       2014, 2015]\n",
    "\n",
    "x = yr_list\n",
    "y = [ x[0] for x in decade_health_USA_T_codes[['SH.IMM.HEPB']].values]\n",
    "\n",
    "print(x)\n",
    "print(y)\n",
    "\n",
    "slope, intercept, r_value, p_value, std_err = stats.linregress(x, y)\n",
    "values = [intercept + slope * data for data in x]\n",
    "print('r-squared:', r_value**2)\n",
    "\n",
    "print(values)\n",
    "\n",
    "ax1.set_xlim(min(yr_list)-.5, max(yr_list)+.5)\n",
    "ax1.plot(x, y, linewidth=1, marker=\"o\")\n",
    "\n",
    "\n",
    "\n",
    "\n",
    "x = yr_list\n",
    "y = [ x[0] for x in decade_health_USA_T_codes[['SH.IMM.MEAS']].values]\n",
    "\n",
    "print(x)\n",
    "print(y)\n",
    "\n",
    "slope, intercept, r_value, p_value, std_err = stats.linregress(x, y)\n",
    "values = [intercept + slope * data for data in x]\n",
    "print('r-squared:', r_value**2)\n",
    "\n",
    "print(values)\n",
    "\n",
    "ax1.plot(x, y, linewidth=1, marker=\"o\", color=\"r\")\n",
    "ax1.set_ylabel(\"Measles Imm. Rate\")\n",
    "ax1.set_xlabel(\"Year\")"
   ]
  },
  {
   "cell_type": "code",
   "execution_count": null,
   "metadata": {},
   "outputs": [],
   "source": []
  },
  {
   "cell_type": "code",
   "execution_count": null,
   "metadata": {},
   "outputs": [],
   "source": [
    "germany_df = countries_sorted_df.get_group('Germany')\n",
    "germany_df"
   ]
  },
  {
   "cell_type": "code",
   "execution_count": null,
   "metadata": {},
   "outputs": [],
   "source": [
    "dropped_germany_df = germany_df.dropna() \n",
    "dropped_germany_df"
   ]
  },
  {
   "cell_type": "code",
   "execution_count": null,
   "metadata": {},
   "outputs": [],
   "source": [
    "decade_health_germany_T = dropped_germany_df.iloc[:, 2:].T\n",
    "decade_health_germany_T.columns = decade_health_germany_T.iloc[1,:]\n",
    "decade_health_germany_T = decade_health_germany_T.iloc[2:, :]\n",
    "decade_health_germany_T"
   ]
  },
  {
   "cell_type": "code",
   "execution_count": null,
   "metadata": {},
   "outputs": [],
   "source": [
    "decade_health_germany_T_codes = decade_health_germany_T[['SH.IMM.HEPB', 'SH.IMM.MEAS', 'SH.STA.ACSN','SP.DYN.IMRT.IN','SH.H2O.SAFE.ZS','SP.POP.GROW','SP.POP.TOTL','NY.GNP.PCAP.CD']]\n",
    "decade_health_germany_T_codes"
   ]
  },
  {
   "cell_type": "code",
   "execution_count": null,
   "metadata": {},
   "outputs": [],
   "source": []
  },
  {
   "cell_type": "code",
   "execution_count": null,
   "metadata": {},
   "outputs": [],
   "source": [
    "# plt.scatter(yr_list, decade_health_germany_T_codes[['SH.IMM.HEPB']], s=None, c='red', alpha=0.5)\n",
    "# plt.title('HepB Immunization Rates (germany)')\n",
    "# plt.xlabel('Years')\n",
    "# plt.ylabel('Rate')\n",
    "# plt.show()\n",
    "\n",
    "fig, (ax1) = plt.subplots(1, sharex=True)\n",
    "fig.suptitle('Measles Immunization Rate Vs. \\n Infant Mortality Rate from 2005-2015 (Germany)', fontsize=14, fontweight=\"bold\")\n",
    "\n",
    "yr_list= [2005, 2006, 2007, 2008, 2009, 2010, 2011, 2012, 2013,\n",
    "       2014, 2015]\n",
    "\n",
    "x = yr_list\n",
    "y = [ x[0] for x in decade_health_germany_T_codes[['SP.DYN.IMRT.IN']].values*10]\n",
    "\n",
    "print(x)\n",
    "print(y)\n",
    "\n",
    "slope, intercept, r_value, p_value, std_err = stats.linregress(x, y)\n",
    "values = [intercept + slope * data for data in x]\n",
    "print('r-squared:', r_value**2)\n",
    "\n",
    "print(values)\n",
    "\n",
    "ax1.set_xlim(min(yr_list)-.5, max(yr_list)+.5)\n",
    "ax1.plot(x, y, linewidth=1, marker=\"o\")\n",
    "\n",
    "x = yr_list\n",
    "y = [ x[0] for x in decade_health_germany_T_codes[['SH.IMM.MEAS']].values]\n",
    "\n",
    "print(x)\n",
    "print(y)\n",
    "\n",
    "slope, intercept, r_value, p_value, std_err = stats.linregress(x, y)\n",
    "values = [intercept + slope * data for data in x]\n",
    "print('r-squared:', r_value**2)\n",
    "\n",
    "print(values)\n",
    "\n",
    "ax1.plot(x, y, linewidth=1, marker=\"o\", color=\"r\")\n",
    "ax1.set_ylabel(\"Rate (per 100)\")\n",
    "ax1.set_xlabel(\"Year\")\n",
    "\n",
    "plt.savefig(\"measles_germany.png\")"
   ]
  },
  {
   "cell_type": "code",
   "execution_count": null,
   "metadata": {},
   "outputs": [],
   "source": [
    "import pingouin as pg\n",
    "\n",
    "x = [ x[0] for x in decade_health_germany_T_codes[['SP.DYN.IMRT.IN']].values]\n",
    "y = [ x[0] for x in decade_health_germany_T_codes[['SH.IMM.MEAS']].values]\n",
    "print(pg.corr(x, y))"
   ]
  },
  {
   "cell_type": "code",
   "execution_count": null,
   "metadata": {},
   "outputs": [],
   "source": [
    "china_df = countries_sorted_df.get_group('China') \n",
    "china_df"
   ]
  },
  {
   "cell_type": "code",
   "execution_count": null,
   "metadata": {},
   "outputs": [],
   "source": [
    "dropped_china_df = china_df.dropna() \n",
    "dropped_china_df"
   ]
  },
  {
   "cell_type": "code",
   "execution_count": null,
   "metadata": {},
   "outputs": [],
   "source": [
    "decade_health_china_T = dropped_china_df.iloc[:, 2:].T\n",
    "decade_health_china_T.columns = decade_health_china_T.iloc[1,:]\n",
    "decade_health_china_T = decade_health_china_T.iloc[2:, :]\n",
    "decade_health_china_T"
   ]
  },
  {
   "cell_type": "code",
   "execution_count": null,
   "metadata": {},
   "outputs": [],
   "source": [
    "decade_health_china_T_codes = decade_health_china_T[['SH.IMM.HEPB', 'SH.IMM.MEAS', 'SH.STA.ACSN','SP.DYN.IMRT.IN','SH.H2O.SAFE.ZS','SP.POP.GROW','SP.POP.TOTL','NY.GNP.PCAP.CD']]\n",
    "decade_health_china_T_codes"
   ]
  },
  {
   "cell_type": "code",
   "execution_count": null,
   "metadata": {},
   "outputs": [],
   "source": [
    "decade_health_china_T_codes.iloc[:,1]"
   ]
  },
  {
   "cell_type": "code",
   "execution_count": null,
   "metadata": {},
   "outputs": [],
   "source": [
    "\n",
    "\n",
    "fig, (ax1) = plt.subplots(1, sharex=True)\n",
    "fig.suptitle('Measles Immunization Rate Vs. \\n Infant Mortality Rate from 2005-2015 (China)', fontsize=14, fontweight=\"bold\")\n",
    "\n",
    "yr_list= [2005, 2006, 2007, 2008, 2009, 2010, 2011, 2012, 2013,\n",
    "       2014, 2015]\n",
    "\n",
    "x = yr_list\n",
    "y = [ x[0] for x in decade_health_china_T_codes[['SP.DYN.IMRT.IN']].values]\n",
    "\n",
    "print(x)\n",
    "print(y)\n",
    "\n",
    "slope, intercept, r_value, p_value, std_err = stats.linregress(x, y)\n",
    "values = [intercept + slope * data for data in x]\n",
    "print('r-squared:', r_value**2)\n",
    "\n",
    "print(values)\n",
    "\n",
    "ax1.set_xlim(min(yr_list)-.5, max(yr_list)+.5)\n",
    "ax1.plot(x, y, linewidth=1, marker=\"o\")\n",
    "\n",
    "x = yr_list\n",
    "y = [ x[0] for x in decade_health_china_T_codes[['SH.IMM.MEAS']].values]\n",
    "\n",
    "print(x)\n",
    "print(y)\n",
    "\n",
    "slope, intercept, r_value, p_value, std_err = stats.linregress(x, y)\n",
    "values = [intercept + slope * data for data in x]\n",
    "print('r-squared:', r_value**2)\n",
    "\n",
    "print(values)\n",
    "\n",
    "ax1.plot(x, y, linewidth=1, marker=\"o\", color=\"r\")\n",
    "ax1.set_ylabel(\"Rate (per 100)\")\n",
    "ax1.set_xlabel(\"Year\")\n",
    "\n",
    "plt.savefig(\"measles_china.png\")"
   ]
  },
  {
   "cell_type": "code",
   "execution_count": null,
   "metadata": {},
   "outputs": [],
   "source": [
    "import pingouin as pg\n",
    "\n",
    "x = [ x[0] for x in decade_health_china_T_codes[['SP.DYN.IMRT.IN']].values]\n",
    "y = [ x[0] for x in decade_health_china_T_codes[['SH.IMM.MEAS']].values]\n",
    "print(pg.corr(x, y))"
   ]
  },
  {
   "cell_type": "code",
   "execution_count": null,
   "metadata": {},
   "outputs": [],
   "source": [
    "brazil_df = countries_sorted_df.get_group('Brazil') \n",
    "brazil_df"
   ]
  },
  {
   "cell_type": "code",
   "execution_count": null,
   "metadata": {},
   "outputs": [],
   "source": [
    "dropped_brazil_df = brazil_df.dropna() \n",
    "dropped_brazil_df"
   ]
  },
  {
   "cell_type": "code",
   "execution_count": null,
   "metadata": {},
   "outputs": [],
   "source": [
    "decade_health_brazil_T = dropped_brazil_df.iloc[:, 2:].T\n",
    "decade_health_brazil_T.columns = decade_health_brazil_T.iloc[1,:]\n",
    "decade_health_brazil_T = decade_health_brazil_T.iloc[2:, :]\n",
    "decade_health_brazil_T"
   ]
  },
  {
   "cell_type": "code",
   "execution_count": null,
   "metadata": {},
   "outputs": [],
   "source": [
    "decade_health_brazil_T_codes = decade_health_brazil_T[['SH.IMM.HEPB', 'SH.IMM.MEAS', 'SH.STA.ACSN','SP.DYN.IMRT.IN','SH.H2O.SAFE.ZS','SP.POP.GROW','SP.POP.TOTL','NY.GNP.PCAP.CD']]\n",
    "decade_health_brazil_T_codes"
   ]
  },
  {
   "cell_type": "code",
   "execution_count": null,
   "metadata": {},
   "outputs": [],
   "source": [
    "\n",
    "\n",
    "fig, (ax1) = plt.subplots(1, sharex=True)\n",
    "fig.suptitle('Measles Immunization Rate Vs. \\n Infant Mortality Rate from 2005-2015 (Brazil)', fontsize=14, fontweight=\"bold\")\n",
    "\n",
    "yr_list= [2005, 2006, 2007, 2008, 2009, 2010, 2011, 2012, 2013,\n",
    "       2014, 2015]\n",
    "\n",
    "x = yr_list\n",
    "y = [ x[0] for x in decade_health_brazil_T_codes[['SP.DYN.IMRT.IN']].values]\n",
    "\n",
    "print(x)\n",
    "print(y)\n",
    "\n",
    "slope, intercept, r_value, p_value, std_err = stats.linregress(x, y)\n",
    "values = [intercept + slope * data for data in x]\n",
    "print('r-squared:', r_value**2)\n",
    "\n",
    "print(values)\n",
    "\n",
    "ax1.set_xlim(min(yr_list)-.5, max(yr_list)+.5)\n",
    "ax1.plot(x, y, linewidth=1, marker=\"o\")\n",
    "\n",
    "x = yr_list\n",
    "y = [ x[0] for x in decade_health_brazil_T_codes[['SH.IMM.MEAS']].values]\n",
    "\n",
    "print(x)\n",
    "print(y)\n",
    "\n",
    "slope, intercept, r_value, p_value, std_err = stats.linregress(x, y)\n",
    "values = [intercept + slope * data for data in x]\n",
    "print('r-squared:', r_value**2)\n",
    "\n",
    "print(values)\n",
    "\n",
    "ax1.plot(x, y, linewidth=1, marker=\"o\", color=\"r\")\n",
    "ax1.set_ylabel(\"Rate (per 100)\")\n",
    "ax1.set_xlabel(\"Year\")\n",
    "\n",
    "plt.savefig(\"measles_brazil.png\")"
   ]
  },
  {
   "cell_type": "code",
   "execution_count": null,
   "metadata": {},
   "outputs": [],
   "source": [
    "import pingouin as pg\n",
    "\n",
    "x = [ x[0] for x in decade_health_brazil_T_codes[['SP.DYN.IMRT.IN']].values]\n",
    "y = [ x[0] for x in decade_health_brazil_T_codes[['SH.IMM.MEAS']].values]\n",
    "print(pg.corr(x, y))"
   ]
  },
  {
   "cell_type": "code",
   "execution_count": null,
   "metadata": {},
   "outputs": [],
   "source": [
    "\n",
    "\n",
    "# dropped_usa_df.set_index(\"Indicator Code\", inplace=True)\n",
    "# #dropped_usa_df\n",
    "\n",
    "# dropped_usa_data_df = dropped_usa_df.loc[['SH.IMM.HEPB', 'SH.IMM.MEAS', 'SH.STA.ACSN','SP.DYN.IMRT.IN','SH.H2O.SAFE.ZS','SP.POP.GROW','SP.POP.TOTL','NY.GNP.PCAP.CD']]\n",
    "# dropped_usa_data_df\n",
    "# dropped_usa_data_df_format = dropped_usa_data_df\n",
    "\n",
    "\n",
    "# dropped_usa_data_df_format[\"2005\"] = dropped_usa_data_df[\"2005\"].map(\"{:,.2f}\".format)\n",
    "# dropped_usa_data_df_format[\"2006\"] = dropped_usa_data_df[\"2006\"].map(\"{:,.2f}\".format)\n",
    "# dropped_usa_data_df_format[\"2007\"] = dropped_usa_data_df[\"2007\"].map(\"{:,.2f}\".format)\n",
    "# dropped_usa_data_df_format[\"2008\"] = dropped_usa_data_df[\"2008\"].map(\"{:,.2f}\".format)\n",
    "# dropped_usa_data_df_format[\"2009\"] = dropped_usa_data_df[\"2009\"].map(\"{:,.2f}\".format)\n",
    "# dropped_usa_data_df_format[\"2010\"] = dropped_usa_data_df[\"2010\"].map(\"{:,.2f}\".format)\n",
    "# dropped_usa_data_df_format[\"2011\"] = dropped_usa_data_df[\"2011\"].map(\"{:,.2f}\".format)\n",
    "# dropped_usa_data_df_format[\"2012\"] = dropped_usa_data_df[\"2012\"].map(\"{:,.2f}\".format)\n",
    "# dropped_usa_data_df_format[\"2013\"] = dropped_usa_data_df[\"2013\"].map(\"{:,.2f}\".format)\n",
    "# dropped_usa_data_df_format[\"2014\"] = dropped_usa_data_df[\"2014\"].map(\"{:,.2f}\".format)\n",
    "# dropped_usa_data_df_format[\"2015\"] = dropped_usa_data_df[\"2015\"].map(\"{:,.2f}\".format)\n",
    "\n",
    "# #dropped_usa_data_df_format.to_csv('dropped_usa_format2.csv')\n",
    "# dropped_usa_data_df_format"
   ]
  },
  {
   "cell_type": "code",
   "execution_count": null,
   "metadata": {},
   "outputs": [],
   "source": []
  },
  {
   "cell_type": "code",
   "execution_count": null,
   "metadata": {},
   "outputs": [],
   "source": [
    "# germany_df = countries_sorted_df.get_group('Germany') \n",
    "# germany_df"
   ]
  },
  {
   "cell_type": "code",
   "execution_count": null,
   "metadata": {},
   "outputs": [],
   "source": [
    "# dropped_germany_df = germany_df.dropna() \n",
    "# dropped_germany_df\n",
    "\n",
    "# dropped_germany_df.set_index(\"Indicator Code\", inplace=True)\n",
    "# #dropped_germany_df\n",
    "\n",
    "# dropped_germany_data_df = dropped_germany_df.loc[['SH.IMM.HEPB', 'SH.IMM.MEAS', 'SH.STA.ACSN','SP.DYN.IMRT.IN','SH.H2O.SAFE.ZS','SP.POP.GROW','SP.POP.TOTL','NY.GNP.PCAP.CD']]\n",
    "# dropped_germany_data_df\n",
    "# dropped_germany_data_df_format = dropped_germany_data_df\n",
    "\n",
    "\n",
    "# dropped_germany_data_df_format[\"2005\"] = dropped_germany_data_df[\"2005\"].map(\"{:,.2f}\".format)\n",
    "# dropped_germany_data_df_format[\"2006\"] = dropped_germany_data_df[\"2006\"].map(\"{:,.2f}\".format)\n",
    "# dropped_germany_data_df_format[\"2007\"] = dropped_germany_data_df[\"2007\"].map(\"{:,.2f}\".format)\n",
    "# dropped_germany_data_df_format[\"2008\"] = dropped_germany_data_df[\"2008\"].map(\"{:,.2f}\".format)\n",
    "# dropped_germany_data_df_format[\"2009\"] = dropped_germany_data_df[\"2009\"].map(\"{:,.2f}\".format)\n",
    "# dropped_germany_data_df_format[\"2010\"] = dropped_germany_data_df[\"2010\"].map(\"{:,.2f}\".format)\n",
    "# dropped_germany_data_df_format[\"2011\"] = dropped_germany_data_df[\"2011\"].map(\"{:,.2f}\".format)\n",
    "# dropped_germany_data_df_format[\"2012\"] = dropped_germany_data_df[\"2012\"].map(\"{:,.2f}\".format)\n",
    "# dropped_germany_data_df_format[\"2013\"] = dropped_germany_data_df[\"2013\"].map(\"{:,.2f}\".format)\n",
    "# dropped_germany_data_df_format[\"2014\"] = dropped_germany_data_df[\"2014\"].map(\"{:,.2f}\".format)\n",
    "# dropped_germany_data_df_format[\"2015\"] = dropped_germany_data_df[\"2015\"].map(\"{:,.2f}\".format)\n",
    "\n",
    "# #dropped_germany_data_df_format.to_csv('dropped_germany_format2.csv')\n",
    "# dropped_germany_data_df_format"
   ]
  },
  {
   "cell_type": "code",
   "execution_count": null,
   "metadata": {},
   "outputs": [],
   "source": [
    "# china_df = countries_sorted_df.get_group('China') \n",
    "# china_df"
   ]
  },
  {
   "cell_type": "code",
   "execution_count": null,
   "metadata": {},
   "outputs": [],
   "source": [
    "# dropped_china_df = china_df.dropna() \n",
    "# dropped_china_df\n",
    "\n",
    "# dropped_china_df.set_index(\"Indicator Code\", inplace=True)\n",
    "# #dropped_china_df\n",
    "\n",
    "# dropped_china_data_df = dropped_china_df.loc[['SH.IMM.HEPB', 'SH.IMM.MEAS', 'SH.STA.ACSN','SP.DYN.IMRT.IN','SH.H2O.SAFE.ZS','SP.POP.GROW','SP.POP.TOTL','NY.GNP.PCAP.CD']]\n",
    "# dropped_china_data_df\n",
    "# dropped_china_data_df_format = dropped_china_data_df\n",
    "\n",
    "\n",
    "# dropped_china_data_df_format[\"2005\"] = dropped_china_data_df[\"2005\"].map(\"{:,.2f}\".format)\n",
    "# dropped_china_data_df_format[\"2006\"] = dropped_china_data_df[\"2006\"].map(\"{:,.2f}\".format)\n",
    "# dropped_china_data_df_format[\"2007\"] = dropped_china_data_df[\"2007\"].map(\"{:,.2f}\".format)\n",
    "# dropped_china_data_df_format[\"2008\"] = dropped_china_data_df[\"2008\"].map(\"{:,.2f}\".format)\n",
    "# dropped_china_data_df_format[\"2009\"] = dropped_china_data_df[\"2009\"].map(\"{:,.2f}\".format)\n",
    "# dropped_china_data_df_format[\"2010\"] = dropped_china_data_df[\"2010\"].map(\"{:,.2f}\".format)\n",
    "# dropped_china_data_df_format[\"2011\"] = dropped_china_data_df[\"2011\"].map(\"{:,.2f}\".format)\n",
    "# dropped_china_data_df_format[\"2012\"] = dropped_china_data_df[\"2012\"].map(\"{:,.2f}\".format)\n",
    "# dropped_china_data_df_format[\"2013\"] = dropped_china_data_df[\"2013\"].map(\"{:,.2f}\".format)\n",
    "# dropped_china_data_df_format[\"2014\"] = dropped_china_data_df[\"2014\"].map(\"{:,.2f}\".format)\n",
    "# dropped_china_data_df_format[\"2015\"] = dropped_china_data_df[\"2015\"].map(\"{:,.2f}\".format)\n",
    "\n",
    "# #dropped_china_data_df_format.to_csv('dropped_china_format2.csv')\n",
    "# dropped_china_data_df_format"
   ]
  },
  {
   "cell_type": "code",
   "execution_count": null,
   "metadata": {},
   "outputs": [],
   "source": [
    "# brazil_df = countries_sorted_df.get_group('Brazil') \n",
    "# brazil_df"
   ]
  },
  {
   "cell_type": "code",
   "execution_count": null,
   "metadata": {},
   "outputs": [],
   "source": [
    "# dropped_brazil_df = brazil_df.dropna() \n",
    "# dropped_brazil_df\n",
    "\n",
    "# dropped_brazil_df.set_index(\"Indicator Code\", inplace=True)\n",
    "# #dropped_brazil_df\n",
    "\n",
    "# dropped_brazil_data_df = dropped_brazil_df.loc[['SH.IMM.HEPB', 'SH.IMM.MEAS', 'SH.STA.ACSN','SP.DYN.IMRT.IN','SH.H2O.SAFE.ZS','SP.POP.GROW','SP.POP.TOTL','NY.GNP.PCAP.CD']]\n",
    "# dropped_brazil_data_df\n",
    "# dropped_brazil_data_df_format = dropped_brazil_data_df\n",
    "\n",
    "\n",
    "# dropped_brazil_data_df_format[\"2005\"] = dropped_brazil_data_df[\"2005\"].map(\"{:,.2f}\".format)\n",
    "# dropped_brazil_data_df_format[\"2006\"] = dropped_brazil_data_df[\"2006\"].map(\"{:,.2f}\".format)\n",
    "# dropped_brazil_data_df_format[\"2007\"] = dropped_brazil_data_df[\"2007\"].map(\"{:,.2f}\".format)\n",
    "# dropped_brazil_data_df_format[\"2008\"] = dropped_brazil_data_df[\"2008\"].map(\"{:,.2f}\".format)\n",
    "# dropped_brazil_data_df_format[\"2009\"] = dropped_brazil_data_df[\"2009\"].map(\"{:,.2f}\".format)\n",
    "# dropped_brazil_data_df_format[\"2010\"] = dropped_brazil_data_df[\"2010\"].map(\"{:,.2f}\".format)\n",
    "# dropped_brazil_data_df_format[\"2011\"] = dropped_brazil_data_df[\"2011\"].map(\"{:,.2f}\".format)\n",
    "# dropped_brazil_data_df_format[\"2012\"] = dropped_brazil_data_df[\"2012\"].map(\"{:,.2f}\".format)\n",
    "# dropped_brazil_data_df_format[\"2013\"] = dropped_brazil_data_df[\"2013\"].map(\"{:,.2f}\".format)\n",
    "# dropped_brazil_data_df_format[\"2014\"] = dropped_brazil_data_df[\"2014\"].map(\"{:,.2f}\".format)\n",
    "# dropped_brazil_data_df_format[\"2015\"] = dropped_brazil_data_df[\"2015\"].map(\"{:,.2f}\".format)\n",
    "\n",
    "# #dropped_brazil_data_df_format.to_csv('dropped_brazil_format2.csv')\n",
    "# dropped_brazil_data_df_format"
   ]
  },
  {
   "cell_type": "code",
   "execution_count": null,
   "metadata": {},
   "outputs": [],
   "source": [
    "# nigeria_df = countries_sorted_df.get_group('Nigeria') \n",
    "# nigeria_df"
   ]
  },
  {
   "cell_type": "code",
   "execution_count": null,
   "metadata": {},
   "outputs": [],
   "source": [
    "# dropped_nigeria_df = nigeria_df.dropna() \n",
    "# dropped_nigeria_df\n",
    "\n",
    "# dropped_nigeria_df.set_index(\"Indicator Code\", inplace=True)\n",
    "# #dropped_nigeria_df\n",
    "\n",
    "# dropped_nigeria_data_df = dropped_nigeria_df.loc[['SH.IMM.HEPB', 'SH.IMM.MEAS', 'SH.STA.ACSN','SP.DYN.IMRT.IN','SH.H2O.SAFE.ZS','SP.POP.GROW','SP.POP.TOTL','NY.GNP.PCAP.CD']]\n",
    "# dropped_nigeria_data_df\n",
    "# dropped_nigeria_data_df_format = dropped_nigeria_data_df\n",
    "\n",
    "\n",
    "# dropped_nigeria_data_df_format[\"2005\"] = dropped_nigeria_data_df[\"2005\"].map(\"{:,.2f}\".format)\n",
    "# dropped_nigeria_data_df_format[\"2006\"] = dropped_nigeria_data_df[\"2006\"].map(\"{:,.2f}\".format)\n",
    "# dropped_nigeria_data_df_format[\"2007\"] = dropped_nigeria_data_df[\"2007\"].map(\"{:,.2f}\".format)\n",
    "# dropped_nigeria_data_df_format[\"2008\"] = dropped_nigeria_data_df[\"2008\"].map(\"{:,.2f}\".format)\n",
    "# dropped_nigeria_data_df_format[\"2009\"] = dropped_nigeria_data_df[\"2009\"].map(\"{:,.2f}\".format)\n",
    "# dropped_nigeria_data_df_format[\"2010\"] = dropped_nigeria_data_df[\"2010\"].map(\"{:,.2f}\".format)\n",
    "# dropped_nigeria_data_df_format[\"2011\"] = dropped_nigeria_data_df[\"2011\"].map(\"{:,.2f}\".format)\n",
    "# dropped_nigeria_data_df_format[\"2012\"] = dropped_nigeria_data_df[\"2012\"].map(\"{:,.2f}\".format)\n",
    "# dropped_nigeria_data_df_format[\"2013\"] = dropped_nigeria_data_df[\"2013\"].map(\"{:,.2f}\".format)\n",
    "# dropped_nigeria_data_df_format[\"2014\"] = dropped_nigeria_data_df[\"2014\"].map(\"{:,.2f}\".format)\n",
    "# dropped_nigeria_data_df_format[\"2015\"] = dropped_nigeria_data_df[\"2015\"].map(\"{:,.2f}\".format)\n",
    "\n",
    "# #dropped_nigeria_data_df_format.to_csv('dropped_nigeria_format2.csv')\n",
    "# dropped_nigeria_data_df_format"
   ]
  },
  {
   "cell_type": "code",
   "execution_count": null,
   "metadata": {},
   "outputs": [],
   "source": [
    "# australia_df = countries_sorted_df.get_group('Australia') \n",
    "# australia_df\n"
   ]
  },
  {
   "cell_type": "code",
   "execution_count": null,
   "metadata": {},
   "outputs": [],
   "source": [
    "# dropped_australia_df = australia_df.dropna() \n",
    "# dropped_australia_df\n",
    "\n",
    "# dropped_australia_df.set_index(\"Indicator Code\", inplace=True)\n",
    "# #dropped_australia_df\n",
    "\n",
    "# dropped_australia_data_df = dropped_australia_df.loc[['SH.IMM.HEPB', 'SH.IMM.MEAS', 'SH.STA.ACSN','SP.DYN.IMRT.IN','SH.H2O.SAFE.ZS','SP.POP.GROW','SP.POP.TOTL','NY.GNP.PCAP.CD']]\n",
    "# dropped_australia_data_df\n",
    "# dropped_australia_data_df_format = dropped_australia_data_df\n",
    "\n",
    "\n",
    "# dropped_australia_data_df_format[\"2005\"] = dropped_australia_data_df[\"2005\"].map(\"{:,.2f}\".format)\n",
    "# dropped_australia_data_df_format[\"2006\"] = dropped_australia_data_df[\"2006\"].map(\"{:,.2f}\".format)\n",
    "# dropped_australia_data_df_format[\"2007\"] = dropped_australia_data_df[\"2007\"].map(\"{:,.2f}\".format)\n",
    "# dropped_australia_data_df_format[\"2008\"] = dropped_australia_data_df[\"2008\"].map(\"{:,.2f}\".format)\n",
    "# dropped_australia_data_df_format[\"2009\"] = dropped_australia_data_df[\"2009\"].map(\"{:,.2f}\".format)\n",
    "# dropped_australia_data_df_format[\"2010\"] = dropped_australia_data_df[\"2010\"].map(\"{:,.2f}\".format)\n",
    "# dropped_australia_data_df_format[\"2011\"] = dropped_australia_data_df[\"2011\"].map(\"{:,.2f}\".format)\n",
    "# dropped_australia_data_df_format[\"2012\"] = dropped_australia_data_df[\"2012\"].map(\"{:,.2f}\".format)\n",
    "# dropped_australia_data_df_format[\"2013\"] = dropped_australia_data_df[\"2013\"].map(\"{:,.2f}\".format)\n",
    "# dropped_australia_data_df_format[\"2014\"] = dropped_australia_data_df[\"2014\"].map(\"{:,.2f}\".format)\n",
    "# dropped_australia_data_df_format[\"2015\"] = dropped_australia_data_df[\"2015\"].map(\"{:,.2f}\".format)\n",
    "\n",
    "# #dropped_australia_data_df_format.to_csv('dropped_australia_format2.csv')\n",
    "# dropped_australia_data_df_format"
   ]
  }
 ],
 "metadata": {
  "kernelspec": {
   "display_name": "Python 3",
   "language": "python",
   "name": "python3"
  },
  "language_info": {
   "codemirror_mode": {
    "name": "ipython",
    "version": 3
   },
   "file_extension": ".py",
   "mimetype": "text/x-python",
   "name": "python",
   "nbconvert_exporter": "python",
   "pygments_lexer": "ipython3",
   "version": "3.7.4"
  }
 },
 "nbformat": 4,
 "nbformat_minor": 4
}
